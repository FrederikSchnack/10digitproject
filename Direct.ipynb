{
 "cells": [
  {
   "cell_type": "code",
   "execution_count": 1,
   "metadata": {
    "collapsed": false
   },
   "outputs": [
    {
     "data": {
      "text/plain": [
       "200"
      ]
     },
     "execution_count": 1,
     "metadata": {},
     "output_type": "execute_result"
    }
   ],
   "source": [
    "using Primes\n",
    "using PyPlot\n",
    "using BenchmarkTools\n",
    "BenchmarkTools.DEFAULT_PARAMETERS.samples = 200 "
   ]
  },
  {
   "cell_type": "code",
   "execution_count": 2,
   "metadata": {
    "collapsed": false
   },
   "outputs": [
    {
     "data": {
      "text/plain": [
       "initialize (generic function with 1 method)"
      ]
     },
     "execution_count": 2,
     "metadata": {},
     "output_type": "execute_result"
    }
   ],
   "source": [
    "function initialize(n, pₙ)\n",
    "    d = primes(pₙ)\n",
    "    Aₙ = spdiagm(d, 0)\n",
    "    e = ones(n, 1)\n",
    "\n",
    "    for k in 2.^( 0:floor(Int,log2(n)))\n",
    "        eₖ = e[1:(n-k)]\n",
    "        Aₙ = Aₙ + spdiagm( [eₖ,eₖ], [-k k])       \n",
    "    end\n",
    "    \n",
    "    Aₙ\n",
    "end"
   ]
  },
  {
   "cell_type": "code",
   "execution_count": 3,
   "metadata": {
    "collapsed": false
   },
   "outputs": [
    {
     "data": {
      "text/plain": [
       "2000×2000 sparse matrix with 41906 Float64 nonzero entries:\n",
       "\t[1   ,    1]  =  2.0\n",
       "\t[2   ,    1]  =  1.0\n",
       "\t[3   ,    1]  =  1.0\n",
       "\t[5   ,    1]  =  1.0\n",
       "\t[9   ,    1]  =  1.0\n",
       "\t[17  ,    1]  =  1.0\n",
       "\t[33  ,    1]  =  1.0\n",
       "\t[65  ,    1]  =  1.0\n",
       "\t[129 ,    1]  =  1.0\n",
       "\t[257 ,    1]  =  1.0\n",
       "\t⋮\n",
       "\t[1488, 2000]  =  1.0\n",
       "\t[1744, 2000]  =  1.0\n",
       "\t[1872, 2000]  =  1.0\n",
       "\t[1936, 2000]  =  1.0\n",
       "\t[1968, 2000]  =  1.0\n",
       "\t[1984, 2000]  =  1.0\n",
       "\t[1992, 2000]  =  1.0\n",
       "\t[1996, 2000]  =  1.0\n",
       "\t[1998, 2000]  =  1.0\n",
       "\t[1999, 2000]  =  1.0\n",
       "\t[2000, 2000]  =  17389.0"
      ]
     },
     "execution_count": 3,
     "metadata": {},
     "output_type": "execute_result"
    }
   ],
   "source": [
    "n = 2000 #20000      \n",
    "pₙ = 17389 #224737  \n",
    "Aₙ = initialize(n, pₙ)"
   ]
  },
  {
   "cell_type": "code",
   "execution_count": 4,
   "metadata": {
    "collapsed": false
   },
   "outputs": [
    {
     "data": {
      "text/plain": [
       "solve_direct (generic function with 1 method)"
      ]
     },
     "execution_count": 4,
     "metadata": {},
     "output_type": "execute_result"
    }
   ],
   "source": [
    "function solve_direct(Aₙ, b)\n",
    "    return (Aₙ\\b)[1] \n",
    "end"
   ]
  },
  {
   "cell_type": "code",
   "execution_count": 5,
   "metadata": {
    "collapsed": false
   },
   "outputs": [
    {
     "name": "stdout",
     "output_type": "stream",
     "text": [
      "  0.803800 seconds (559.02 k allocations: 48.002 MB, 1.55% gc time)\n",
      "l₁ = 0.7250188326252589"
     ]
    }
   ],
   "source": [
    "b = zeros(n)\n",
    "b[1] = 1\n",
    "\n",
    "@time l₁ = solve_direct(Aₙ,b)\n",
    "print(\"l₁ = \", l₁)"
   ]
  },
  {
   "cell_type": "code",
   "execution_count": null,
   "metadata": {
    "collapsed": true
   },
   "outputs": [],
   "source": []
  }
 ],
 "metadata": {
  "anaconda-cloud": {},
  "kernelspec": {
   "display_name": "Julia 0.5.0",
   "language": "julia",
   "name": "julia-0.5"
  },
  "language_info": {
   "file_extension": ".jl",
   "mimetype": "application/julia",
   "name": "julia",
   "version": "0.5.0"
  }
 },
 "nbformat": 4,
 "nbformat_minor": 1
}
