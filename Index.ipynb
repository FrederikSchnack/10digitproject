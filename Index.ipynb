{
 "cells": [
  {
   "cell_type": "markdown",
   "metadata": {},
   "source": [
    "## Table of Contents\n",
    "#### [Project Presentation](/~schnack/public/10digitproject/Project+Presentation.html \"Überblick des Projekts\")\n",
    "   1. [Cholesky ADM](/~schnack/public/10digitproject/Cholesky+ADM.html \"Cholesky Verfahren mit ADM Methode\")\n",
    "   2. [Cholesky RCM](/~schnack/public/10digitproject/Cholesky+RCM.html \"Cholesky Verfahren mit RCM Methode\")\n"
   ]
  }
 ],
 "metadata": {
  "anaconda-cloud": {},
  "kernelspec": {
   "display_name": "Julia 0.5.0",
   "language": "julia",
   "name": "julia-0.5"
  },
  "language_info": {
   "file_extension": ".jl",
   "mimetype": "application/julia",
   "name": "julia",
   "version": "0.5.0"
  }
 },
 "nbformat": 4,
 "nbformat_minor": 1
}
